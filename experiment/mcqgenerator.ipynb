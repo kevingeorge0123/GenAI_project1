{
 "cells": [
  {
   "cell_type": "code",
   "execution_count": 2,
   "metadata": {},
   "outputs": [],
   "source": [
    "import os\n",
    "import json\n",
    "import pandas as pd\n",
    "import traceback \n"
   ]
  },
  {
   "cell_type": "code",
   "execution_count": 3,
   "metadata": {},
   "outputs": [],
   "source": [
    "from langchain.chat_models import ChatOpenAI\n"
   ]
  },
  {
   "cell_type": "code",
   "execution_count": 6,
   "metadata": {},
   "outputs": [],
   "source": [
    "key1= os.getenv(\"OPENAI_API_KEY\")\n",
    "#print(key1)"
   ]
  },
  {
   "cell_type": "code",
   "execution_count": 7,
   "metadata": {},
   "outputs": [],
   "source": [
    "from dotenv import load_dotenv\n",
    "load_dotenv()  # take env variable from .env\n",
    "\n",
    "key=os.getenv(\"OPENAI_API_KEY\")\n",
    "#print(key)"
   ]
  },
  {
   "cell_type": "code",
   "execution_count": 55,
   "metadata": {},
   "outputs": [],
   "source": [
    "llm =ChatOpenAI(openai_api_key=key,model_name=\"gpt-3.5-turbo\",temperature=0.5)\n",
    "#llm"
   ]
  },
  {
   "cell_type": "code",
   "execution_count": 9,
   "metadata": {},
   "outputs": [],
   "source": [
    "from langchain.llms import OpenAI\n",
    "from langchain.prompts import PromptTemplate\n",
    "from langchain.chains import LLMChain\n",
    "from langchain.chains import SequentialChain\n",
    "from langchain.callbacks import get_openai_callback\n",
    "import PyPDF2"
   ]
  },
  {
   "cell_type": "code",
   "execution_count": 10,
   "metadata": {},
   "outputs": [],
   "source": [
    "RESPONSE_JSON = {\n",
    "    \"1\": {\n",
    "        \"mcq\": \"multiple choice question\",\n",
    "        \"options\": {\n",
    "            \"a\": \"choice here\",\n",
    "            \"b\": \"choice here\",\n",
    "            \"c\": \"choice here\",\n",
    "            \"d\": \"choice here\",\n",
    "        },\n",
    "        \"correct\": \"correct answer\",\n",
    "    },\n",
    "    \"2\": {\n",
    "        \"mcq\": \"multiple choice question\",\n",
    "        \"options\": {\n",
    "            \"a\": \"choice here\",\n",
    "            \"b\": \"choice here\",\n",
    "            \"c\": \"choice here\",\n",
    "            \"d\": \"choice here\",\n",
    "        },\n",
    "        \"correct\": \"correct answer\",\n",
    "    },\n",
    "    \"3\": {\n",
    "        \"mcq\": \"multiple choice question\",\n",
    "        \"options\": {\n",
    "            \"a\": \"choice here\",\n",
    "            \"b\": \"choice here\",\n",
    "            \"c\": \"choice here\",\n",
    "            \"d\": \"choice here\",\n",
    "        },\n",
    "        \"correct\": \"correct answer\",\n",
    "    },\n",
    "}"
   ]
  },
  {
   "cell_type": "code",
   "execution_count": 11,
   "metadata": {},
   "outputs": [],
   "source": [
    "TEMPLATE=\"\"\"\n",
    "Text:{text}\n",
    "You are an expert MCQ maker. Given the above text, it is your job to \\\n",
    "create a quiz  of {number} multiple choice questions for {subject} students in {tone} tone. \n",
    "Make sure the questions are not repeated and check all the questions to be conforming the text as well.\n",
    "Make sure to format your response like  RESPONSE_JSON below  and use it as a guide. \\\n",
    "Ensure to make {number} MCQs\n",
    "### RESPONSE_JSON\n",
    "{response_json}\n",
    "\n",
    "\"\"\""
   ]
  },
  {
   "cell_type": "code",
   "execution_count": 13,
   "metadata": {},
   "outputs": [],
   "source": [
    "quiz_generation_prompt = PromptTemplate(\n",
    "    input_variables=[\"text\",\"number\",\"subject\",\"tone\",\"response_json\"],\n",
    "    template= TEMPLATE\n",
    ")"
   ]
  },
  {
   "cell_type": "code",
   "execution_count": 14,
   "metadata": {},
   "outputs": [
    {
     "name": "stderr",
     "output_type": "stream",
     "text": [
      "c:\\Users\\kevin\\OneDrive\\Documents\\Learning\\Youtube\\GenAI\\GenAI_project1\\genaipro_env\\lib\\site-packages\\langchain_core\\_api\\deprecation.py:139: LangChainDeprecationWarning: The class `LLMChain` was deprecated in LangChain 0.1.17 and will be removed in 1.0. Use RunnableSequence, e.g., `prompt | llm` instead.\n",
      "  warn_deprecated(\n"
     ]
    }
   ],
   "source": [
    "quiz_chain = LLMChain(llm=llm,prompt=quiz_generation_prompt,output_key=\"quiz\",verbose=True)"
   ]
  },
  {
   "cell_type": "code",
   "execution_count": 15,
   "metadata": {},
   "outputs": [],
   "source": [
    "TEMPLATE2=\"\"\"\n",
    "You are an expert english grammarian and writer. Given a Multiple Choice Quiz for {subject} students.\\\n",
    "You need to evaluate the complexity of the question and give a complete analysis of the quiz. Only use at max 50 words for complexity analysis. \n",
    "if the quiz is not at per with the cognitive and analytical abilities of the students,\\\n",
    "update the quiz questions which needs to be changed and change the tone such that it perfectly fits the student abilities\n",
    "Quiz_MCQs:\n",
    "{quiz}\n",
    "\n",
    "Check from an expert English Writer of the above quiz:\n",
    "\"\"\""
   ]
  },
  {
   "cell_type": "code",
   "execution_count": 16,
   "metadata": {},
   "outputs": [],
   "source": [
    "quiz_evaluation_prompt = PromptTemplate(input_variables=[\"subject\",\"quiz\"],template=TEMPLATE2)"
   ]
  },
  {
   "cell_type": "code",
   "execution_count": 17,
   "metadata": {},
   "outputs": [],
   "source": [
    "review_chain =LLMChain(llm=llm, prompt=quiz_evaluation_prompt,output_key=\"review\",verbose= True)"
   ]
  },
  {
   "cell_type": "code",
   "execution_count": 18,
   "metadata": {},
   "outputs": [],
   "source": [
    "generate_evaluate_chain= SequentialChain(chains=[quiz_chain,review_chain],input_variables=[\"text\",\"number\",\"subject\",\"tone\",\"response_json\"],\n",
    "                                         output_variables=[\"quiz\",\"review\"],verbose=True)"
   ]
  },
  {
   "cell_type": "code",
   "execution_count": 19,
   "metadata": {},
   "outputs": [
    {
     "name": "stdout",
     "output_type": "stream",
     "text": [
      "Data science is an interdisciplinary academic field[1] that uses statistics, scientific computing, scientific methods, processes, algorithms and systems to extract or extrapolate knowledge and insights from noisy, structured, and unstructured data.[2]\n",
      "\n",
      "Data science also integrates domain knowledge from the underlying application domain (e.g., natural sciences, information technology, and medicine).[3] Data science is multifaceted and can be described as a science, a research paradigm, a research method, a discipline, a workflow, and a profession.[4]\n",
      "\n",
      "Data science is a \"concept to unify statistics, data analysis, informatics, and their related methods\" to \"understand and analyze actual phenomena\" with data.[5] It uses techniques and theories drawn from many fields within the context of mathematics, statistics, computer science, information science, and domain knowledge.[6] However, data science is different from computer science and information science. Turing Award winner Jim Gray imagined data science as a \"fourth paradigm\" of science (empirical, theoretical, computational, and now data-driven) and asserted that \"everything about science is changing because of the impact of information technology\" and the data deluge.[7][8]\n",
      "\n",
      "A data scientist is a professional who creates programming code and combines it with statistical knowledge to create insights from data.[9]\n",
      "\n",
      "Foundations\n",
      "Data science is an interdisciplinary field[10] focused on extracting knowledge from typically large data sets and applying the knowledge and insights from that data to solve problems in a wide range of application domains. The field encompasses preparing data for analysis, formulating data science problems, analyzing data, developing data-driven solutions, and presenting findings to inform high-level decisions in a broad range of application domains. As such, it incorporates skills from computer science, statistics, information science, mathematics, data visualization, information visualization, data sonification, data integration, graphic design, complex systems, communication and business.[11][12] Statistician Nathan Yau, drawing on Ben Fry, also links data science to humanâ€“computer interaction: users should be able to intuitively control and explore data.[13][14] In 2015, the American Statistical Association identified database management, statistics and machine learning, and distributed and parallel systems as the three emerging foundational professional communities.[15]\n"
     ]
    }
   ],
   "source": [
    "filepath= r\"C:\\Users\\kevin\\OneDrive\\Documents\\Learning\\Youtube\\GenAI\\GenAI_project1\\data.txt\"\n",
    "with open(filepath,'r') as file:\n",
    "    TEXT= file.read()\n",
    "\n",
    "print(TEXT)\n",
    "\n",
    "\n",
    "# //or\n",
    "# current_dir = os.getcwd()\n",
    "# parent_dir = os.path.abspath(os.path.join(current_dir, '..'))\n",
    "# file_path = os.path.join(parent_dir, 'data.txt')\n",
    "\n",
    "# with open(file_path, 'r') as file:\n",
    "#     content = file.read()\n",
    "\n",
    "# print(content)"
   ]
  },
  {
   "cell_type": "code",
   "execution_count": 20,
   "metadata": {},
   "outputs": [
    {
     "data": {
      "text/plain": [
       "'{\"1\": {\"mcq\": \"multiple choice question\", \"options\": {\"a\": \"choice here\", \"b\": \"choice here\", \"c\": \"choice here\", \"d\": \"choice here\"}, \"correct\": \"correct answer\"}, \"2\": {\"mcq\": \"multiple choice question\", \"options\": {\"a\": \"choice here\", \"b\": \"choice here\", \"c\": \"choice here\", \"d\": \"choice here\"}, \"correct\": \"correct answer\"}, \"3\": {\"mcq\": \"multiple choice question\", \"options\": {\"a\": \"choice here\", \"b\": \"choice here\", \"c\": \"choice here\", \"d\": \"choice here\"}, \"correct\": \"correct answer\"}}'"
      ]
     },
     "execution_count": 20,
     "metadata": {},
     "output_type": "execute_result"
    }
   ],
   "source": [
    "json.dumps(RESPONSE_JSON)  # serialize python dic into a json formatted string\n"
   ]
  },
  {
   "cell_type": "code",
   "execution_count": 21,
   "metadata": {},
   "outputs": [],
   "source": [
    "NUMBER=5 \n",
    "SUBJECT=\"data science\"\n",
    "TONE=\"simple\""
   ]
  },
  {
   "cell_type": "code",
   "execution_count": 26,
   "metadata": {},
   "outputs": [
    {
     "name": "stdout",
     "output_type": "stream",
     "text": [
      "\n",
      "\n",
      "\u001b[1m> Entering new SequentialChain chain...\u001b[0m\n",
      "\n",
      "\n",
      "\u001b[1m> Entering new LLMChain chain...\u001b[0m\n",
      "Prompt after formatting:\n",
      "\u001b[32;1m\u001b[1;3m\n",
      "Text:Data science is an interdisciplinary academic field[1] that uses statistics, scientific computing, scientific methods, processes, algorithms and systems to extract or extrapolate knowledge and insights from noisy, structured, and unstructured data.[2]\n",
      "\n",
      "Data science also integrates domain knowledge from the underlying application domain (e.g., natural sciences, information technology, and medicine).[3] Data science is multifaceted and can be described as a science, a research paradigm, a research method, a discipline, a workflow, and a profession.[4]\n",
      "\n",
      "Data science is a \"concept to unify statistics, data analysis, informatics, and their related methods\" to \"understand and analyze actual phenomena\" with data.[5] It uses techniques and theories drawn from many fields within the context of mathematics, statistics, computer science, information science, and domain knowledge.[6] However, data science is different from computer science and information science. Turing Award winner Jim Gray imagined data science as a \"fourth paradigm\" of science (empirical, theoretical, computational, and now data-driven) and asserted that \"everything about science is changing because of the impact of information technology\" and the data deluge.[7][8]\n",
      "\n",
      "A data scientist is a professional who creates programming code and combines it with statistical knowledge to create insights from data.[9]\n",
      "\n",
      "Foundations\n",
      "Data science is an interdisciplinary field[10] focused on extracting knowledge from typically large data sets and applying the knowledge and insights from that data to solve problems in a wide range of application domains. The field encompasses preparing data for analysis, formulating data science problems, analyzing data, developing data-driven solutions, and presenting findings to inform high-level decisions in a broad range of application domains. As such, it incorporates skills from computer science, statistics, information science, mathematics, data visualization, information visualization, data sonification, data integration, graphic design, complex systems, communication and business.[11][12] Statistician Nathan Yau, drawing on Ben Fry, also links data science to humanâ€“computer interaction: users should be able to intuitively control and explore data.[13][14] In 2015, the American Statistical Association identified database management, statistics and machine learning, and distributed and parallel systems as the three emerging foundational professional communities.[15]\n",
      "You are an expert MCQ maker. Given the above text, it is your job to create a quiz  of 5 multiple choice questions for data science students in simple tone. \n",
      "Make sure the questions are not repeated and check all the questions to be conforming the text as well.\n",
      "Make sure to format your response like  RESPONSE_JSON below  and use it as a guide. Ensure to make 5 MCQs\n",
      "### RESPONSE_JSON\n",
      "{\"1\": {\"mcq\": \"multiple choice question\", \"options\": {\"a\": \"choice here\", \"b\": \"choice here\", \"c\": \"choice here\", \"d\": \"choice here\"}, \"correct\": \"correct answer\"}, \"2\": {\"mcq\": \"multiple choice question\", \"options\": {\"a\": \"choice here\", \"b\": \"choice here\", \"c\": \"choice here\", \"d\": \"choice here\"}, \"correct\": \"correct answer\"}, \"3\": {\"mcq\": \"multiple choice question\", \"options\": {\"a\": \"choice here\", \"b\": \"choice here\", \"c\": \"choice here\", \"d\": \"choice here\"}, \"correct\": \"correct answer\"}}\n",
      "\n",
      "\u001b[0m\n",
      "\n",
      "\u001b[1m> Finished chain.\u001b[0m\n",
      "\n",
      "\n",
      "\u001b[1m> Entering new LLMChain chain...\u001b[0m\n",
      "Prompt after formatting:\n",
      "\u001b[32;1m\u001b[1;3m\n",
      "You are an expert english grammarian and writer. Given a Multiple Choice Quiz for data science students.You need to evaluate the complexity of the question and give a complete analysis of the quiz. Only use at max 50 words for complexity analysis. \n",
      "if the quiz is not at per with the cognitive and analytical abilities of the students,update the quiz questions which needs to be changed and change the tone such that it perfectly fits the student abilities\n",
      "Quiz_MCQs:\n",
      "{\n",
      "    \"1\": {\n",
      "        \"mcq\": \"What is data science?\",\n",
      "        \"options\": {\n",
      "            \"a\": \"A field that uses statistics and scientific computing to extract knowledge from data\",\n",
      "            \"b\": \"A branch of computer science focused on data visualization\",\n",
      "            \"c\": \"A discipline that studies ancient data systems\",\n",
      "            \"d\": \"A type of art form using data as the medium\"\n",
      "        },\n",
      "        \"correct\": \"a\"\n",
      "    },\n",
      "    \"2\": {\n",
      "        \"mcq\": \"What does a data scientist do?\",\n",
      "        \"options\": {\n",
      "            \"a\": \"Create programming code and combine it with statistical knowledge to gain insights from data\",\n",
      "            \"b\": \"Design websites and mobile applications\",\n",
      "            \"c\": \"Conduct experiments in a laboratory setting\",\n",
      "            \"d\": \"Write novels based on data analysis\"\n",
      "        },\n",
      "        \"correct\": \"a\"\n",
      "    },\n",
      "    \"3\": {\n",
      "        \"mcq\": \"What skills are required in data science?\",\n",
      "        \"options\": {\n",
      "            \"a\": \"Computer science, statistics, information science, and mathematics\",\n",
      "            \"b\": \"Graphic design, complex systems, and communication\",\n",
      "            \"c\": \"Only computer science and statistics\",\n",
      "            \"d\": \"None of the above\"\n",
      "        },\n",
      "        \"correct\": \"a\"\n",
      "    },\n",
      "    \"4\": {\n",
      "        \"mcq\": \"How is data science different from computer science and information science?\",\n",
      "        \"options\": {\n",
      "            \"a\": \"It focuses on extracting knowledge from data and solving problems in various domains\",\n",
      "            \"b\": \"It only deals with structured data\",\n",
      "            \"c\": \"It is not a scientific field\",\n",
      "            \"d\": \"It does not involve statistical analysis\"\n",
      "        },\n",
      "        \"correct\": \"a\"\n",
      "    },\n",
      "    \"5\": {\n",
      "        \"mcq\": \"What did Turing Award winner Jim Gray describe data science as?\",\n",
      "        \"options\": {\n",
      "            \"a\": \"A branch of computer science\",\n",
      "            \"b\": \"A type of art form\",\n",
      "            \"c\": \"A 'fourth paradigm' of science\",\n",
      "            \"d\": \"A form of data visualization\"\n",
      "        },\n",
      "        \"correct\": \"c\"\n",
      "    }\n",
      "}\n",
      "\n",
      "Check from an expert English Writer of the above quiz:\n",
      "\u001b[0m\n",
      "\n",
      "\u001b[1m> Finished chain.\u001b[0m\n",
      "\n",
      "\u001b[1m> Finished chain.\u001b[0m\n"
     ]
    }
   ],
   "source": [
    "#https://python.langchain.com/docs/modules/model_io/llms/token_usage_tracking\n",
    "\n",
    "#How to setup Token Usage Tracking in LangChain\n",
    "with get_openai_callback() as cb:\n",
    "    response=generate_evaluate_chain(\n",
    "        {\n",
    "            \"text\": TEXT,\n",
    "            \"number\": NUMBER,\n",
    "            \"subject\":SUBJECT,\n",
    "            \"tone\": TONE,\n",
    "            \"response_json\": json.dumps(RESPONSE_JSON)\n",
    "        }\n",
    "        )"
   ]
  },
  {
   "cell_type": "code",
   "execution_count": 27,
   "metadata": {},
   "outputs": [
    {
     "name": "stdout",
     "output_type": "stream",
     "text": [
      "Total Tokens:1774\n",
      "Prompt Tokens:1274\n",
      "Completion Tokens:500\n",
      "Total Cost:0.002911\n"
     ]
    }
   ],
   "source": [
    "\n",
    "print(f\"Total Tokens:{cb.total_tokens}\")\n",
    "print(f\"Prompt Tokens:{cb.prompt_tokens}\")\n",
    "print(f\"Completion Tokens:{cb.completion_tokens}\")\n",
    "print(f\"Total Cost:{cb.total_cost}\")"
   ]
  },
  {
   "cell_type": "code",
   "execution_count": 28,
   "metadata": {},
   "outputs": [
    {
     "data": {
      "text/plain": [
       "{'text': 'Data science is an interdisciplinary academic field[1] that uses statistics, scientific computing, scientific methods, processes, algorithms and systems to extract or extrapolate knowledge and insights from noisy, structured, and unstructured data.[2]\\n\\nData science also integrates domain knowledge from the underlying application domain (e.g., natural sciences, information technology, and medicine).[3] Data science is multifaceted and can be described as a science, a research paradigm, a research method, a discipline, a workflow, and a profession.[4]\\n\\nData science is a \"concept to unify statistics, data analysis, informatics, and their related methods\" to \"understand and analyze actual phenomena\" with data.[5] It uses techniques and theories drawn from many fields within the context of mathematics, statistics, computer science, information science, and domain knowledge.[6] However, data science is different from computer science and information science. Turing Award winner Jim Gray imagined data science as a \"fourth paradigm\" of science (empirical, theoretical, computational, and now data-driven) and asserted that \"everything about science is changing because of the impact of information technology\" and the data deluge.[7][8]\\n\\nA data scientist is a professional who creates programming code and combines it with statistical knowledge to create insights from data.[9]\\n\\nFoundations\\nData science is an interdisciplinary field[10] focused on extracting knowledge from typically large data sets and applying the knowledge and insights from that data to solve problems in a wide range of application domains. The field encompasses preparing data for analysis, formulating data science problems, analyzing data, developing data-driven solutions, and presenting findings to inform high-level decisions in a broad range of application domains. As such, it incorporates skills from computer science, statistics, information science, mathematics, data visualization, information visualization, data sonification, data integration, graphic design, complex systems, communication and business.[11][12] Statistician Nathan Yau, drawing on Ben Fry, also links data science to humanâ€“computer interaction: users should be able to intuitively control and explore data.[13][14] In 2015, the American Statistical Association identified database management, statistics and machine learning, and distributed and parallel systems as the three emerging foundational professional communities.[15]',\n",
       " 'number': 5,\n",
       " 'subject': 'data science',\n",
       " 'tone': 'simple',\n",
       " 'response_json': '{\"1\": {\"mcq\": \"multiple choice question\", \"options\": {\"a\": \"choice here\", \"b\": \"choice here\", \"c\": \"choice here\", \"d\": \"choice here\"}, \"correct\": \"correct answer\"}, \"2\": {\"mcq\": \"multiple choice question\", \"options\": {\"a\": \"choice here\", \"b\": \"choice here\", \"c\": \"choice here\", \"d\": \"choice here\"}, \"correct\": \"correct answer\"}, \"3\": {\"mcq\": \"multiple choice question\", \"options\": {\"a\": \"choice here\", \"b\": \"choice here\", \"c\": \"choice here\", \"d\": \"choice here\"}, \"correct\": \"correct answer\"}}',\n",
       " 'quiz': '{\\n    \"1\": {\\n        \"mcq\": \"What is data science?\",\\n        \"options\": {\\n            \"a\": \"A field that uses statistics and scientific computing to extract knowledge from data\",\\n            \"b\": \"A branch of computer science focused on data visualization\",\\n            \"c\": \"A discipline that studies ancient data systems\",\\n            \"d\": \"A type of art form using data as the medium\"\\n        },\\n        \"correct\": \"a\"\\n    },\\n    \"2\": {\\n        \"mcq\": \"What does a data scientist do?\",\\n        \"options\": {\\n            \"a\": \"Create programming code and combine it with statistical knowledge to gain insights from data\",\\n            \"b\": \"Design websites and mobile applications\",\\n            \"c\": \"Conduct experiments in a laboratory setting\",\\n            \"d\": \"Write novels based on data analysis\"\\n        },\\n        \"correct\": \"a\"\\n    },\\n    \"3\": {\\n        \"mcq\": \"What skills are required in data science?\",\\n        \"options\": {\\n            \"a\": \"Computer science, statistics, information science, and mathematics\",\\n            \"b\": \"Graphic design, complex systems, and communication\",\\n            \"c\": \"Only computer science and statistics\",\\n            \"d\": \"None of the above\"\\n        },\\n        \"correct\": \"a\"\\n    },\\n    \"4\": {\\n        \"mcq\": \"How is data science different from computer science and information science?\",\\n        \"options\": {\\n            \"a\": \"It focuses on extracting knowledge from data and solving problems in various domains\",\\n            \"b\": \"It only deals with structured data\",\\n            \"c\": \"It is not a scientific field\",\\n            \"d\": \"It does not involve statistical analysis\"\\n        },\\n        \"correct\": \"a\"\\n    },\\n    \"5\": {\\n        \"mcq\": \"What did Turing Award winner Jim Gray describe data science as?\",\\n        \"options\": {\\n            \"a\": \"A branch of computer science\",\\n            \"b\": \"A type of art form\",\\n            \"c\": \"A \\'fourth paradigm\\' of science\",\\n            \"d\": \"A form of data visualization\"\\n        },\\n        \"correct\": \"c\"\\n    }\\n}',\n",
       " 'review': 'The complexity of the quiz questions is appropriate for data science students. The questions cover fundamental concepts and require basic understanding of the field. The tone is clear and concise, making it accessible for students at various levels. No changes are needed.'}"
      ]
     },
     "execution_count": 28,
     "metadata": {},
     "output_type": "execute_result"
    }
   ],
   "source": [
    "response"
   ]
  },
  {
   "cell_type": "code",
   "execution_count": 30,
   "metadata": {},
   "outputs": [
    {
     "data": {
      "text/plain": [
       "{'1': {'mcq': 'What is data science?',\n",
       "  'options': {'a': 'A field that uses statistics and scientific computing to extract knowledge from data',\n",
       "   'b': 'A branch of computer science focused on data visualization',\n",
       "   'c': 'A discipline that studies ancient data systems',\n",
       "   'd': 'A type of art form using data as the medium'},\n",
       "  'correct': 'a'},\n",
       " '2': {'mcq': 'What does a data scientist do?',\n",
       "  'options': {'a': 'Create programming code and combine it with statistical knowledge to gain insights from data',\n",
       "   'b': 'Design websites and mobile applications',\n",
       "   'c': 'Conduct experiments in a laboratory setting',\n",
       "   'd': 'Write novels based on data analysis'},\n",
       "  'correct': 'a'},\n",
       " '3': {'mcq': 'What skills are required in data science?',\n",
       "  'options': {'a': 'Computer science, statistics, information science, and mathematics',\n",
       "   'b': 'Graphic design, complex systems, and communication',\n",
       "   'c': 'Only computer science and statistics',\n",
       "   'd': 'None of the above'},\n",
       "  'correct': 'a'},\n",
       " '4': {'mcq': 'How is data science different from computer science and information science?',\n",
       "  'options': {'a': 'It focuses on extracting knowledge from data and solving problems in various domains',\n",
       "   'b': 'It only deals with structured data',\n",
       "   'c': 'It is not a scientific field',\n",
       "   'd': 'It does not involve statistical analysis'},\n",
       "  'correct': 'a'},\n",
       " '5': {'mcq': 'What did Turing Award winner Jim Gray describe data science as?',\n",
       "  'options': {'a': 'A branch of computer science',\n",
       "   'b': 'A type of art form',\n",
       "   'c': \"A 'fourth paradigm' of science\",\n",
       "   'd': 'A form of data visualization'},\n",
       "  'correct': 'c'}}"
      ]
     },
     "execution_count": 30,
     "metadata": {},
     "output_type": "execute_result"
    }
   ],
   "source": [
    "quiz_str=response.get('quiz')\n",
    "quiz_dict =json.loads(quiz_str)  # creates dict"
   ]
  },
  {
   "cell_type": "code",
   "execution_count": 51,
   "metadata": {},
   "outputs": [
    {
     "data": {
      "text/plain": [
       "[{'MCQ': 'What is data science?',\n",
       "  'Choices': 'a:A field that uses statistics and scientific computing to extract knowledge from data | b:A branch of computer science focused on data visualization | c:A discipline that studies ancient data systems | d:A type of art form using data as the medium',\n",
       "  'Correct': 'a'},\n",
       " {'MCQ': 'What does a data scientist do?',\n",
       "  'Choices': 'a:Create programming code and combine it with statistical knowledge to gain insights from data | b:Design websites and mobile applications | c:Conduct experiments in a laboratory setting | d:Write novels based on data analysis',\n",
       "  'Correct': 'a'},\n",
       " {'MCQ': 'What skills are required in data science?',\n",
       "  'Choices': 'a:Computer science, statistics, information science, and mathematics | b:Graphic design, complex systems, and communication | c:Only computer science and statistics | d:None of the above',\n",
       "  'Correct': 'a'},\n",
       " {'MCQ': 'How is data science different from computer science and information science?',\n",
       "  'Choices': 'a:It focuses on extracting knowledge from data and solving problems in various domains | b:It only deals with structured data | c:It is not a scientific field | d:It does not involve statistical analysis',\n",
       "  'Correct': 'a'},\n",
       " {'MCQ': 'What did Turing Award winner Jim Gray describe data science as?',\n",
       "  'Choices': \"a:A branch of computer science | b:A type of art form | c:A 'fourth paradigm' of science | d:A form of data visualization\",\n",
       "  'Correct': 'c'}]"
      ]
     },
     "execution_count": 51,
     "metadata": {},
     "output_type": "execute_result"
    }
   ],
   "source": [
    "# \"==\".join([f\"{i}:{i*i}\" for i in range(10)])\n",
    "quiz_table_data  =[]\n",
    "for key, value in quiz_dict.items():\n",
    "    mcq=value['mcq']\n",
    "    option = \" | \".join(\n",
    "        [f\"{key1}:{value1}\" for key1,value1 in value['options'].items()]\n",
    "    )\n",
    "    correct =value['correct']\n",
    "    quiz_table_data.append({\"MCQ\":mcq,\"Choices\": option,\"Correct\":correct})\n",
    "\n",
    "quiz_table_data\n",
    "\n",
    "\n",
    "\n"
   ]
  },
  {
   "cell_type": "code",
   "execution_count": 53,
   "metadata": {},
   "outputs": [
    {
     "data": {
      "text/html": [
       "<div>\n",
       "<style scoped>\n",
       "    .dataframe tbody tr th:only-of-type {\n",
       "        vertical-align: middle;\n",
       "    }\n",
       "\n",
       "    .dataframe tbody tr th {\n",
       "        vertical-align: top;\n",
       "    }\n",
       "\n",
       "    .dataframe thead th {\n",
       "        text-align: right;\n",
       "    }\n",
       "</style>\n",
       "<table border=\"1\" class=\"dataframe\">\n",
       "  <thead>\n",
       "    <tr style=\"text-align: right;\">\n",
       "      <th></th>\n",
       "      <th>MCQ</th>\n",
       "      <th>Choices</th>\n",
       "      <th>Correct</th>\n",
       "    </tr>\n",
       "  </thead>\n",
       "  <tbody>\n",
       "    <tr>\n",
       "      <th>0</th>\n",
       "      <td>What is data science?</td>\n",
       "      <td>a:A field that uses statistics and scientific ...</td>\n",
       "      <td>a</td>\n",
       "    </tr>\n",
       "    <tr>\n",
       "      <th>1</th>\n",
       "      <td>What does a data scientist do?</td>\n",
       "      <td>a:Create programming code and combine it with ...</td>\n",
       "      <td>a</td>\n",
       "    </tr>\n",
       "    <tr>\n",
       "      <th>2</th>\n",
       "      <td>What skills are required in data science?</td>\n",
       "      <td>a:Computer science, statistics, information sc...</td>\n",
       "      <td>a</td>\n",
       "    </tr>\n",
       "    <tr>\n",
       "      <th>3</th>\n",
       "      <td>How is data science different from computer sc...</td>\n",
       "      <td>a:It focuses on extracting knowledge from data...</td>\n",
       "      <td>a</td>\n",
       "    </tr>\n",
       "    <tr>\n",
       "      <th>4</th>\n",
       "      <td>What did Turing Award winner Jim Gray describe...</td>\n",
       "      <td>a:A branch of computer science | b:A type of a...</td>\n",
       "      <td>c</td>\n",
       "    </tr>\n",
       "  </tbody>\n",
       "</table>\n",
       "</div>"
      ],
      "text/plain": [
       "                                                 MCQ  \\\n",
       "0                              What is data science?   \n",
       "1                     What does a data scientist do?   \n",
       "2          What skills are required in data science?   \n",
       "3  How is data science different from computer sc...   \n",
       "4  What did Turing Award winner Jim Gray describe...   \n",
       "\n",
       "                                             Choices Correct  \n",
       "0  a:A field that uses statistics and scientific ...       a  \n",
       "1  a:Create programming code and combine it with ...       a  \n",
       "2  a:Computer science, statistics, information sc...       a  \n",
       "3  a:It focuses on extracting knowledge from data...       a  \n",
       "4  a:A branch of computer science | b:A type of a...       c  "
      ]
     },
     "execution_count": 53,
     "metadata": {},
     "output_type": "execute_result"
    }
   ],
   "source": [
    "df=pd.DataFrame(quiz_table_data)\n",
    "df"
   ]
  },
  {
   "cell_type": "code",
   "execution_count": 54,
   "metadata": {},
   "outputs": [],
   "source": [
    "df.to_csv(\"Data_Science_Quiz.csv\",index=False)"
   ]
  },
  {
   "cell_type": "code",
   "execution_count": 56,
   "metadata": {},
   "outputs": [
    {
     "data": {
      "text/plain": [
       "'c:\\\\Users\\\\kevin\\\\OneDrive\\\\Documents\\\\Learning\\\\Youtube\\\\GenAI\\\\GenAI_project1\\\\experiment'"
      ]
     },
     "execution_count": 56,
     "metadata": {},
     "output_type": "execute_result"
    }
   ],
   "source": [
    "os.getcwd()"
   ]
  },
  {
   "cell_type": "code",
   "execution_count": 70,
   "metadata": {},
   "outputs": [],
   "source": [
    "os.path.join(os.getcwd(),\"log\")\n",
    "os.makedirs(os.path.join(os.getcwd(),\"log\"),exist_ok=True)"
   ]
  },
  {
   "cell_type": "code",
   "execution_count": null,
   "metadata": {},
   "outputs": [],
   "source": []
  }
 ],
 "metadata": {
  "kernelspec": {
   "display_name": "genaipro_env",
   "language": "python",
   "name": "python3"
  },
  "language_info": {
   "codemirror_mode": {
    "name": "ipython",
    "version": 3
   },
   "file_extension": ".py",
   "mimetype": "text/x-python",
   "name": "python",
   "nbconvert_exporter": "python",
   "pygments_lexer": "ipython3",
   "version": "3.9.7"
  }
 },
 "nbformat": 4,
 "nbformat_minor": 2
}
